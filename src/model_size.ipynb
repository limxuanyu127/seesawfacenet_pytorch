{
 "cells": [
  {
   "cell_type": "code",
   "execution_count": null,
   "metadata": {
    "ExecuteTime": {
     "end_time": "2018-08-06T12:16:01.581503Z",
     "start_time": "2018-08-06T12:16:01.377552Z"
    }
   },
   "outputs": [],
   "source": [
    "# see http://stackoverflow.com/questions/1907993/autoreload-of-modules-in-ipython\n",
    "%load_ext autoreload\n",
    "%autoreload 2\n",
    "%matplotlib inline\n",
    "import pdb"
   ]
  },
  {
   "cell_type": "code",
   "execution_count": null,
   "metadata": {
    "ExecuteTime": {
     "end_time": "2018-08-06T12:16:02.981513Z",
     "start_time": "2018-08-06T12:16:01.884463Z"
    },
    "scrolled": true
   },
   "outputs": [],
   "source": [
    "from config import get_config\n",
    "import argparse\n",
    "from Learner import face_learner\n",
    "from liarc_Learner import face_learner as liarc_learner\n",
    "from slim_Learner import face_learner as slim_learner \n",
    "from data.data_pipe import get_val_pair\n",
    "from torchvision import transforms as trans"
   ]
  },
  {
   "cell_type": "code",
   "execution_count": null,
   "metadata": {
    "ExecuteTime": {
     "end_time": "2018-08-06T12:16:15.802435Z",
     "start_time": "2018-08-06T12:16:15.225902Z"
    }
   },
   "outputs": [],
   "source": [
    "conf = get_config(training=False)"
   ]
  },
  {
   "cell_type": "code",
   "execution_count": null,
   "metadata": {
    "ExecuteTime": {
     "end_time": "2018-08-06T12:07:28.254338Z",
     "start_time": "2018-08-06T12:07:25.077127Z"
    }
   },
   "outputs": [],
   "source": [
    "# learner = face_learner(conf, inference=True)\n",
    "# learner = liarc_learner(conf, inference=True)\n",
    "learner = slim_learner(conf, inference=True)"
   ]
  },
  {
   "cell_type": "code",
   "execution_count": null,
   "metadata": {},
   "outputs": [],
   "source": [
    "from thop import profile\n",
    "import torch\n",
    "model = learner.model\n",
    "\n",
    "i1 = torch.randn(1, 3, 112, 112)\n",
    "macs, params = profile(model, inputs=(i1, ), verbose=False)\n",
    "print(macs)\n",
    "print(params)"
   ]
  },
  {
   "cell_type": "markdown",
   "metadata": {},
   "source": [
    "## For built-in models\n"
   ]
  },
  {
   "cell_type": "code",
   "execution_count": 25,
   "metadata": {},
   "outputs": [],
   "source": [
    "import torchvision.models as models\n",
    "# mobilenet = models.mobilenetv3(pretrained=True)\n",
    "squeezenet = models.squeezenet1_0()\n",
    "alexnet = models.alexnet(pretrained=True)\n",
    "inception = models.inception_v3()\n",
    "# googlenet = models.googlenet()\n",
    "\n",
    "from seesaw_models.seesaw_shuffleFaceNet import Arcface, MobileFaceNet\n",
    "\n",
    "arcface = Arcface(conf.embedding_size).to(conf.device)\n",
    "mobilefacenet = MobileFaceNet(conf.embedding_size).to(conf.device)\n",
    "\n",
    "pytorch_models = [squeezenet,alexnet,inception]\n",
    "other_models = [arcface,mobilefacenet]"
   ]
  },
  {
   "cell_type": "code",
   "execution_count": 32,
   "metadata": {},
   "outputs": [
    {
     "data": {
      "text/plain": [
       "['AlexNet',\n",
       " 'DenseNet',\n",
       " 'Inception3',\n",
       " 'ResNet',\n",
       " 'SqueezeNet',\n",
       " 'VGG',\n",
       " '__builtins__',\n",
       " '__cached__',\n",
       " '__doc__',\n",
       " '__file__',\n",
       " '__loader__',\n",
       " '__name__',\n",
       " '__package__',\n",
       " '__path__',\n",
       " '__spec__',\n",
       " 'alexnet',\n",
       " 'densenet',\n",
       " 'densenet121',\n",
       " 'densenet161',\n",
       " 'densenet169',\n",
       " 'densenet201',\n",
       " 'inception',\n",
       " 'inception_v3',\n",
       " 'resnet',\n",
       " 'resnet101',\n",
       " 'resnet152',\n",
       " 'resnet18',\n",
       " 'resnet34',\n",
       " 'resnet50',\n",
       " 'squeezenet',\n",
       " 'squeezenet1_0',\n",
       " 'squeezenet1_1',\n",
       " 'vgg',\n",
       " 'vgg11',\n",
       " 'vgg11_bn',\n",
       " 'vgg13',\n",
       " 'vgg13_bn',\n",
       " 'vgg16',\n",
       " 'vgg16_bn',\n",
       " 'vgg19',\n",
       " 'vgg19_bn']"
      ]
     },
     "execution_count": 32,
     "metadata": {},
     "output_type": "execute_result"
    }
   ],
   "source": [
    "dir(models)"
   ]
  },
  {
   "cell_type": "code",
   "execution_count": 27,
   "metadata": {},
   "outputs": [
    {
     "name": "stdout",
     "output_type": "stream",
     "text": [
      "model: MobileFaceNet(\n",
      "  (conv1): Conv_block(\n",
      "    (conv): Conv2d(3, 64, kernel_size=(3, 3), stride=(2, 2), padding=(1, 1), bias=False)\n",
      "    (bn): BatchNorm2d(64, eps=1e-05, momentum=0.1, affine=True, track_running_stats=True)\n",
      "    (unlinearity): h_swish(\n",
      "      (sigmoid): Sigmoid()\n",
      "    )\n",
      "  )\n",
      "  (conv2_dw): Conv_block(\n",
      "    (conv): Conv2d(64, 64, kernel_size=(3, 3), stride=(1, 1), padding=(1, 1), groups=64, bias=False)\n",
      "    (bn): BatchNorm2d(64, eps=1e-05, momentum=0.1, affine=True, track_running_stats=True)\n",
      "    (unlinearity): h_swish(\n",
      "      (sigmoid): Sigmoid()\n",
      "    )\n",
      "  )\n",
      "  (conv_23): Depth_Wise(\n",
      "    (conv): Conv_block(\n",
      "      (conv): Conv2d(64, 128, kernel_size=(1, 1), stride=(1, 1), bias=False)\n",
      "      (bn): BatchNorm2d(128, eps=1e-05, momentum=0.1, affine=True, track_running_stats=True)\n",
      "      (unlinearity): h_swish(\n",
      "        (sigmoid): Sigmoid()\n",
      "      )\n",
      "    )\n",
      "    (conv_dw): Conv_block(\n",
      "      (conv): Conv2d(128, 128, kernel_size=(3, 3), stride=(2, 2), padding=(1, 1), groups=128, bias=False)\n",
      "      (bn): BatchNorm2d(128, eps=1e-05, momentum=0.1, affine=True, track_running_stats=True)\n",
      "      (unlinearity): h_swish(\n",
      "        (sigmoid): Sigmoid()\n",
      "      )\n",
      "    )\n",
      "    (project): Linear_block(\n",
      "      (conv): Conv2d(128, 64, kernel_size=(1, 1), stride=(1, 1), bias=False)\n",
      "      (bn): BatchNorm2d(64, eps=1e-05, momentum=0.1, affine=True, track_running_stats=True)\n",
      "    )\n",
      "  )\n",
      "  (conv_3): Residual(\n",
      "    (model): Sequential(\n",
      "      (0): Depth_Wise(\n",
      "        (conv): Conv_block(\n",
      "          (conv): Conv2d(64, 128, kernel_size=(1, 1), stride=(1, 1), bias=False)\n",
      "          (bn): BatchNorm2d(128, eps=1e-05, momentum=0.1, affine=True, track_running_stats=True)\n",
      "          (unlinearity): h_swish(\n",
      "            (sigmoid): Sigmoid()\n",
      "          )\n",
      "        )\n",
      "        (conv_dw): Conv_block(\n",
      "          (conv): Conv2d(128, 128, kernel_size=(3, 3), stride=(1, 1), padding=(1, 1), groups=128, bias=False)\n",
      "          (bn): BatchNorm2d(128, eps=1e-05, momentum=0.1, affine=True, track_running_stats=True)\n",
      "          (unlinearity): h_swish(\n",
      "            (sigmoid): Sigmoid()\n",
      "          )\n",
      "        )\n",
      "        (project): Linear_block(\n",
      "          (conv): Conv2d(128, 64, kernel_size=(1, 1), stride=(1, 1), bias=False)\n",
      "          (bn): BatchNorm2d(64, eps=1e-05, momentum=0.1, affine=True, track_running_stats=True)\n",
      "        )\n",
      "      )\n",
      "      (1): Depth_Wise(\n",
      "        (conv): Conv_block(\n",
      "          (conv): Conv2d(64, 128, kernel_size=(1, 1), stride=(1, 1), bias=False)\n",
      "          (bn): BatchNorm2d(128, eps=1e-05, momentum=0.1, affine=True, track_running_stats=True)\n",
      "          (unlinearity): h_swish(\n",
      "            (sigmoid): Sigmoid()\n",
      "          )\n",
      "        )\n",
      "        (conv_dw): Conv_block(\n",
      "          (conv): Conv2d(128, 128, kernel_size=(3, 3), stride=(1, 1), padding=(1, 1), groups=128, bias=False)\n",
      "          (bn): BatchNorm2d(128, eps=1e-05, momentum=0.1, affine=True, track_running_stats=True)\n",
      "          (unlinearity): h_swish(\n",
      "            (sigmoid): Sigmoid()\n",
      "          )\n",
      "        )\n",
      "        (project): Linear_block(\n",
      "          (conv): Conv2d(128, 64, kernel_size=(1, 1), stride=(1, 1), bias=False)\n",
      "          (bn): BatchNorm2d(64, eps=1e-05, momentum=0.1, affine=True, track_running_stats=True)\n",
      "        )\n",
      "      )\n",
      "      (2): Depth_Wise(\n",
      "        (conv): Conv_block(\n",
      "          (conv): Conv2d(64, 128, kernel_size=(1, 1), stride=(1, 1), bias=False)\n",
      "          (bn): BatchNorm2d(128, eps=1e-05, momentum=0.1, affine=True, track_running_stats=True)\n",
      "          (unlinearity): h_swish(\n",
      "            (sigmoid): Sigmoid()\n",
      "          )\n",
      "        )\n",
      "        (conv_dw): Conv_block(\n",
      "          (conv): Conv2d(128, 128, kernel_size=(3, 3), stride=(1, 1), padding=(1, 1), groups=128, bias=False)\n",
      "          (bn): BatchNorm2d(128, eps=1e-05, momentum=0.1, affine=True, track_running_stats=True)\n",
      "          (unlinearity): h_swish(\n",
      "            (sigmoid): Sigmoid()\n",
      "          )\n",
      "        )\n",
      "        (project): Linear_block(\n",
      "          (conv): Conv2d(128, 64, kernel_size=(1, 1), stride=(1, 1), bias=False)\n",
      "          (bn): BatchNorm2d(64, eps=1e-05, momentum=0.1, affine=True, track_running_stats=True)\n",
      "        )\n",
      "      )\n",
      "      (3): Depth_Wise(\n",
      "        (conv): Conv_block(\n",
      "          (conv): Conv2d(64, 128, kernel_size=(1, 1), stride=(1, 1), bias=False)\n",
      "          (bn): BatchNorm2d(128, eps=1e-05, momentum=0.1, affine=True, track_running_stats=True)\n",
      "          (unlinearity): h_swish(\n",
      "            (sigmoid): Sigmoid()\n",
      "          )\n",
      "        )\n",
      "        (conv_dw): Conv_block(\n",
      "          (conv): Conv2d(128, 128, kernel_size=(3, 3), stride=(1, 1), padding=(1, 1), groups=128, bias=False)\n",
      "          (bn): BatchNorm2d(128, eps=1e-05, momentum=0.1, affine=True, track_running_stats=True)\n",
      "          (unlinearity): h_swish(\n",
      "            (sigmoid): Sigmoid()\n",
      "          )\n",
      "        )\n",
      "        (project): Linear_block(\n",
      "          (conv): Conv2d(128, 64, kernel_size=(1, 1), stride=(1, 1), bias=False)\n",
      "          (bn): BatchNorm2d(64, eps=1e-05, momentum=0.1, affine=True, track_running_stats=True)\n",
      "        )\n",
      "      )\n",
      "    )\n",
      "  )\n",
      "  (conv_34): Depth_Wise(\n",
      "    (conv): Conv_block(\n",
      "      (conv): Conv2d(64, 256, kernel_size=(1, 1), stride=(1, 1), bias=False)\n",
      "      (bn): BatchNorm2d(256, eps=1e-05, momentum=0.1, affine=True, track_running_stats=True)\n",
      "      (unlinearity): h_swish(\n",
      "        (sigmoid): Sigmoid()\n",
      "      )\n",
      "    )\n",
      "    (conv_dw): Conv_block(\n",
      "      (conv): Conv2d(256, 256, kernel_size=(3, 3), stride=(2, 2), padding=(1, 1), groups=256, bias=False)\n",
      "      (bn): BatchNorm2d(256, eps=1e-05, momentum=0.1, affine=True, track_running_stats=True)\n",
      "      (unlinearity): h_swish(\n",
      "        (sigmoid): Sigmoid()\n",
      "      )\n",
      "    )\n",
      "    (project): Linear_block(\n",
      "      (conv): Conv2d(256, 128, kernel_size=(1, 1), stride=(1, 1), bias=False)\n",
      "      (bn): BatchNorm2d(128, eps=1e-05, momentum=0.1, affine=True, track_running_stats=True)\n",
      "    )\n",
      "  )\n",
      "  (conv_4): Residual(\n",
      "    (model): Sequential(\n",
      "      (0): Depth_Wise(\n",
      "        (conv): Conv_block(\n",
      "          (conv): Conv2d(128, 256, kernel_size=(1, 1), stride=(1, 1), bias=False)\n",
      "          (bn): BatchNorm2d(256, eps=1e-05, momentum=0.1, affine=True, track_running_stats=True)\n",
      "          (unlinearity): h_swish(\n",
      "            (sigmoid): Sigmoid()\n",
      "          )\n",
      "        )\n",
      "        (conv_dw): Conv_block(\n",
      "          (conv): Conv2d(256, 256, kernel_size=(3, 3), stride=(1, 1), padding=(1, 1), groups=256, bias=False)\n",
      "          (bn): BatchNorm2d(256, eps=1e-05, momentum=0.1, affine=True, track_running_stats=True)\n",
      "          (unlinearity): h_swish(\n",
      "            (sigmoid): Sigmoid()\n",
      "          )\n",
      "        )\n",
      "        (project): Linear_block(\n",
      "          (conv): Conv2d(256, 128, kernel_size=(1, 1), stride=(1, 1), bias=False)\n",
      "          (bn): BatchNorm2d(128, eps=1e-05, momentum=0.1, affine=True, track_running_stats=True)\n",
      "        )\n",
      "      )\n",
      "      (1): Depth_Wise(\n",
      "        (conv): Conv_block(\n",
      "          (conv): Conv2d(128, 256, kernel_size=(1, 1), stride=(1, 1), bias=False)\n",
      "          (bn): BatchNorm2d(256, eps=1e-05, momentum=0.1, affine=True, track_running_stats=True)\n",
      "          (unlinearity): h_swish(\n",
      "            (sigmoid): Sigmoid()\n",
      "          )\n",
      "        )\n",
      "        (conv_dw): Conv_block(\n",
      "          (conv): Conv2d(256, 256, kernel_size=(3, 3), stride=(1, 1), padding=(1, 1), groups=256, bias=False)\n",
      "          (bn): BatchNorm2d(256, eps=1e-05, momentum=0.1, affine=True, track_running_stats=True)\n",
      "          (unlinearity): h_swish(\n",
      "            (sigmoid): Sigmoid()\n",
      "          )\n",
      "        )\n",
      "        (project): Linear_block(\n",
      "          (conv): Conv2d(256, 128, kernel_size=(1, 1), stride=(1, 1), bias=False)\n",
      "          (bn): BatchNorm2d(128, eps=1e-05, momentum=0.1, affine=True, track_running_stats=True)\n",
      "        )\n",
      "      )\n",
      "      (2): Depth_Wise(\n",
      "        (conv): Conv_block(\n",
      "          (conv): Conv2d(128, 256, kernel_size=(1, 1), stride=(1, 1), bias=False)\n",
      "          (bn): BatchNorm2d(256, eps=1e-05, momentum=0.1, affine=True, track_running_stats=True)\n",
      "          (unlinearity): h_swish(\n",
      "            (sigmoid): Sigmoid()\n",
      "          )\n",
      "        )\n",
      "        (conv_dw): Conv_block(\n",
      "          (conv): Conv2d(256, 256, kernel_size=(3, 3), stride=(1, 1), padding=(1, 1), groups=256, bias=False)\n",
      "          (bn): BatchNorm2d(256, eps=1e-05, momentum=0.1, affine=True, track_running_stats=True)\n",
      "          (unlinearity): h_swish(\n",
      "            (sigmoid): Sigmoid()\n",
      "          )\n",
      "        )\n",
      "        (project): Linear_block(\n",
      "          (conv): Conv2d(256, 128, kernel_size=(1, 1), stride=(1, 1), bias=False)\n",
      "          (bn): BatchNorm2d(128, eps=1e-05, momentum=0.1, affine=True, track_running_stats=True)\n",
      "        )\n",
      "      )\n",
      "      (3): Depth_Wise(\n",
      "        (conv): Conv_block(\n",
      "          (conv): Conv2d(128, 256, kernel_size=(1, 1), stride=(1, 1), bias=False)\n",
      "          (bn): BatchNorm2d(256, eps=1e-05, momentum=0.1, affine=True, track_running_stats=True)\n",
      "          (unlinearity): h_swish(\n",
      "            (sigmoid): Sigmoid()\n",
      "          )\n",
      "        )\n",
      "        (conv_dw): Conv_block(\n",
      "          (conv): Conv2d(256, 256, kernel_size=(3, 3), stride=(1, 1), padding=(1, 1), groups=256, bias=False)\n",
      "          (bn): BatchNorm2d(256, eps=1e-05, momentum=0.1, affine=True, track_running_stats=True)\n",
      "          (unlinearity): h_swish(\n",
      "            (sigmoid): Sigmoid()\n",
      "          )\n",
      "        )\n",
      "        (project): Linear_block(\n",
      "          (conv): Conv2d(256, 128, kernel_size=(1, 1), stride=(1, 1), bias=False)\n",
      "          (bn): BatchNorm2d(128, eps=1e-05, momentum=0.1, affine=True, track_running_stats=True)\n",
      "        )\n",
      "      )\n",
      "      (4): Depth_Wise(\n",
      "        (conv): Conv_block(\n",
      "          (conv): Conv2d(128, 256, kernel_size=(1, 1), stride=(1, 1), bias=False)\n",
      "          (bn): BatchNorm2d(256, eps=1e-05, momentum=0.1, affine=True, track_running_stats=True)\n",
      "          (unlinearity): h_swish(\n",
      "            (sigmoid): Sigmoid()\n",
      "          )\n",
      "        )\n",
      "        (conv_dw): Conv_block(\n",
      "          (conv): Conv2d(256, 256, kernel_size=(3, 3), stride=(1, 1), padding=(1, 1), groups=256, bias=False)\n",
      "          (bn): BatchNorm2d(256, eps=1e-05, momentum=0.1, affine=True, track_running_stats=True)\n",
      "          (unlinearity): h_swish(\n",
      "            (sigmoid): Sigmoid()\n",
      "          )\n",
      "        )\n",
      "        (project): Linear_block(\n",
      "          (conv): Conv2d(256, 128, kernel_size=(1, 1), stride=(1, 1), bias=False)\n",
      "          (bn): BatchNorm2d(128, eps=1e-05, momentum=0.1, affine=True, track_running_stats=True)\n",
      "        )\n",
      "      )\n",
      "      (5): Depth_Wise(\n",
      "        (conv): Conv_block(\n",
      "          (conv): Conv2d(128, 256, kernel_size=(1, 1), stride=(1, 1), bias=False)\n",
      "          (bn): BatchNorm2d(256, eps=1e-05, momentum=0.1, affine=True, track_running_stats=True)\n",
      "          (unlinearity): h_swish(\n",
      "            (sigmoid): Sigmoid()\n",
      "          )\n",
      "        )\n",
      "        (conv_dw): Conv_block(\n",
      "          (conv): Conv2d(256, 256, kernel_size=(3, 3), stride=(1, 1), padding=(1, 1), groups=256, bias=False)\n",
      "          (bn): BatchNorm2d(256, eps=1e-05, momentum=0.1, affine=True, track_running_stats=True)\n",
      "          (unlinearity): h_swish(\n",
      "            (sigmoid): Sigmoid()\n",
      "          )\n",
      "        )\n",
      "        (project): Linear_block(\n",
      "          (conv): Conv2d(256, 128, kernel_size=(1, 1), stride=(1, 1), bias=False)\n",
      "          (bn): BatchNorm2d(128, eps=1e-05, momentum=0.1, affine=True, track_running_stats=True)\n",
      "        )\n",
      "      )\n",
      "    )\n",
      "  )\n",
      "  (conv_45): Depth_Wise(\n",
      "    (conv): Conv_block(\n",
      "      (conv): Conv2d(128, 512, kernel_size=(1, 1), stride=(1, 1), bias=False)\n",
      "      (bn): BatchNorm2d(512, eps=1e-05, momentum=0.1, affine=True, track_running_stats=True)\n",
      "      (unlinearity): h_swish(\n",
      "        (sigmoid): Sigmoid()\n",
      "      )\n",
      "    )\n",
      "    (conv_dw): Conv_block(\n",
      "      (conv): Conv2d(512, 512, kernel_size=(3, 3), stride=(2, 2), padding=(1, 1), groups=512, bias=False)\n",
      "      (bn): BatchNorm2d(512, eps=1e-05, momentum=0.1, affine=True, track_running_stats=True)\n",
      "      (unlinearity): h_swish(\n",
      "        (sigmoid): Sigmoid()\n",
      "      )\n",
      "    )\n",
      "    (project): Linear_block(\n",
      "      (conv): Conv2d(512, 128, kernel_size=(1, 1), stride=(1, 1), bias=False)\n",
      "      (bn): BatchNorm2d(128, eps=1e-05, momentum=0.1, affine=True, track_running_stats=True)\n",
      "    )\n",
      "  )\n",
      "  (conv_5): Residual(\n",
      "    (model): Sequential(\n",
      "      (0): Depth_Wise(\n",
      "        (conv): Conv_block(\n",
      "          (conv): Conv2d(128, 256, kernel_size=(1, 1), stride=(1, 1), bias=False)\n",
      "          (bn): BatchNorm2d(256, eps=1e-05, momentum=0.1, affine=True, track_running_stats=True)\n",
      "          (unlinearity): h_swish(\n",
      "            (sigmoid): Sigmoid()\n",
      "          )\n",
      "        )\n",
      "        (conv_dw): Conv_block(\n",
      "          (conv): Conv2d(256, 256, kernel_size=(3, 3), stride=(1, 1), padding=(1, 1), groups=256, bias=False)\n",
      "          (bn): BatchNorm2d(256, eps=1e-05, momentum=0.1, affine=True, track_running_stats=True)\n",
      "          (unlinearity): h_swish(\n",
      "            (sigmoid): Sigmoid()\n",
      "          )\n",
      "        )\n",
      "        (project): Linear_block(\n",
      "          (conv): Conv2d(256, 128, kernel_size=(1, 1), stride=(1, 1), bias=False)\n",
      "          (bn): BatchNorm2d(128, eps=1e-05, momentum=0.1, affine=True, track_running_stats=True)\n",
      "        )\n",
      "      )\n",
      "      (1): Depth_Wise(\n",
      "        (conv): Conv_block(\n",
      "          (conv): Conv2d(128, 256, kernel_size=(1, 1), stride=(1, 1), bias=False)\n",
      "          (bn): BatchNorm2d(256, eps=1e-05, momentum=0.1, affine=True, track_running_stats=True)\n",
      "          (unlinearity): h_swish(\n",
      "            (sigmoid): Sigmoid()\n",
      "          )\n",
      "        )\n",
      "        (conv_dw): Conv_block(\n",
      "          (conv): Conv2d(256, 256, kernel_size=(3, 3), stride=(1, 1), padding=(1, 1), groups=256, bias=False)\n",
      "          (bn): BatchNorm2d(256, eps=1e-05, momentum=0.1, affine=True, track_running_stats=True)\n",
      "          (unlinearity): h_swish(\n",
      "            (sigmoid): Sigmoid()\n",
      "          )\n",
      "        )\n",
      "        (project): Linear_block(\n",
      "          (conv): Conv2d(256, 128, kernel_size=(1, 1), stride=(1, 1), bias=False)\n",
      "          (bn): BatchNorm2d(128, eps=1e-05, momentum=0.1, affine=True, track_running_stats=True)\n",
      "        )\n",
      "      )\n",
      "    )\n",
      "  )\n",
      "  (conv_6_sep): Conv_block(\n",
      "    (conv): Conv2d(128, 512, kernel_size=(1, 1), stride=(1, 1), bias=False)\n",
      "    (bn): BatchNorm2d(512, eps=1e-05, momentum=0.1, affine=True, track_running_stats=True)\n",
      "    (unlinearity): h_swish(\n",
      "      (sigmoid): Sigmoid()\n",
      "    )\n",
      "  )\n",
      "  (conv_6_dw): Linear_block(\n",
      "    (conv): Conv2d(512, 512, kernel_size=(7, 7), stride=(1, 1), groups=512, bias=False)\n",
      "    (bn): BatchNorm2d(512, eps=1e-05, momentum=0.1, affine=True, track_running_stats=True)\n",
      "  )\n",
      "  (conv_6_flatten): Flatten()\n",
      "  (linear): Linear(in_features=512, out_features=512, bias=False)\n",
      "  (bn): BatchNorm1d(512, eps=1e-05, momentum=0.1, affine=True, track_running_stats=True)\n"
     ]
    },
    {
     "name": "stdout",
     "output_type": "stream",
     "text": [
      "), macs: 234247680.0, num_of_params: 1192960.0\n"
     ]
    }
   ],
   "source": [
    "for model in other_models[1:]:\n",
    "    i1 = torch.randn(1, 3, 112, 112)\n",
    "    macs, params = profile(model, inputs=(i1, ), verbose=False)\n",
    "    print('model: {}, macs: {}, num_of_params: {}'.format(model, macs, params))"
   ]
  },
  {
   "cell_type": "code",
   "execution_count": 31,
   "metadata": {},
   "outputs": [
    {
     "name": "stdout",
     "output_type": "stream",
     "text": [
      "model: 0, num_of_params: 1248424\n",
      "model: 1, num_of_params: 61100840\n",
      "model: 2, num_of_params: 27161264\n"
     ]
    }
   ],
   "source": [
    "def count_parameters(model):\n",
    "    return sum(p.numel() for p in model.parameters() if p.requires_grad)\n",
    "\n",
    "counter = 0\n",
    "for model in pytorch_models:\n",
    "    count = count_parameters(model)\n",
    "    print('model: {}, num_of_params: {}'.format(counter, count))\n",
    "    counter+=1"
   ]
  },
  {
   "cell_type": "markdown",
   "metadata": {},
   "source": [
    "## End"
   ]
  },
  {
   "cell_type": "code",
   "execution_count": null,
   "metadata": {
    "ExecuteTime": {
     "end_time": "2018-08-05T08:16:48.699975Z",
     "start_time": "2018-08-05T08:16:48.577620Z"
    }
   },
   "outputs": [],
   "source": [
    "learner.load_state(conf, 'ir_se50.pth', model_only=True, from_save_folder=True)"
   ]
  },
  {
   "cell_type": "code",
   "execution_count": null,
   "metadata": {
    "ExecuteTime": {
     "end_time": "2018-08-05T08:17:34.370828Z",
     "start_time": "2018-08-05T08:16:54.595433Z"
    }
   },
   "outputs": [],
   "source": [
    "vgg2_fp, vgg2_fp_issame = get_val_pair(conf.emore_folder, 'vgg2_fp')\n",
    "accuracy, best_threshold, roc_curve_tensor = learner.evaluate(conf, vgg2_fp, vgg2_fp_issame, nrof_folds=10, tta=True)\n",
    "print('vgg2_fp - accuray:{}, threshold:{}'.format(accuracy, best_threshold))\n",
    "trans.ToPILImage()(roc_curve_tensor)"
   ]
  },
  {
   "cell_type": "code",
   "execution_count": null,
   "metadata": {
    "ExecuteTime": {
     "end_time": "2018-08-05T08:18:22.280104Z",
     "start_time": "2018-08-05T08:17:34.371667Z"
    }
   },
   "outputs": [],
   "source": [
    "agedb_30, agedb_30_issame = get_val_pair(conf.emore_folder, 'agedb_30')\n",
    "accuracy, best_threshold, roc_curve_tensor = learner.evaluate(conf, agedb_30, agedb_30_issame, nrof_folds=10, tta=True)\n",
    "print('agedb_30 - accuray:{}, threshold:{}'.format(accuracy, best_threshold))\n",
    "trans.ToPILImage()(roc_curve_tensor)"
   ]
  },
  {
   "cell_type": "code",
   "execution_count": null,
   "metadata": {
    "ExecuteTime": {
     "end_time": "2018-08-05T08:19:10.989848Z",
     "start_time": "2018-08-05T08:18:22.280898Z"
    }
   },
   "outputs": [],
   "source": [
    "calfw, calfw_issame = get_val_pair(conf.emore_folder, 'calfw')\n",
    "accuracy, best_threshold, roc_curve_tensor = learner.evaluate(conf, calfw, calfw_issame, nrof_folds=10, tta=True)\n",
    "print('calfw - accuray:{}, threshold:{}'.format(accuracy, best_threshold))\n",
    "trans.ToPILImage()(roc_curve_tensor)"
   ]
  },
  {
   "cell_type": "code",
   "execution_count": null,
   "metadata": {
    "ExecuteTime": {
     "end_time": "2018-08-05T08:20:07.093886Z",
     "start_time": "2018-08-05T08:19:10.990656Z"
    }
   },
   "outputs": [],
   "source": [
    "cfp_ff, cfp_ff_issame = get_val_pair(conf.emore_folder, 'cfp_ff')\n",
    "accuracy, best_threshold, roc_curve_tensor = learner.evaluate(conf, cfp_ff, cfp_ff_issame, nrof_folds=10, tta=True)\n",
    "print('cfp_ff - accuray:{}, threshold:{}'.format(accuracy, best_threshold))\n",
    "trans.ToPILImage()(roc_curve_tensor)"
   ]
  },
  {
   "cell_type": "code",
   "execution_count": null,
   "metadata": {
    "ExecuteTime": {
     "end_time": "2018-08-05T08:21:03.272833Z",
     "start_time": "2018-08-05T08:20:07.094703Z"
    }
   },
   "outputs": [],
   "source": [
    "cfp_fp, cfp_fp_issame = get_val_pair(conf.emore_folder, 'cfp_fp')\n",
    "accuracy, best_threshold, roc_curve_tensor = learner.evaluate(conf, cfp_fp, cfp_fp_issame, nrof_folds=10, tta=True)\n",
    "print('cfp_fp - accuray:{}, threshold:{}'.format(accuracy, best_threshold))\n",
    "trans.ToPILImage()(roc_curve_tensor)"
   ]
  },
  {
   "cell_type": "code",
   "execution_count": null,
   "metadata": {
    "ExecuteTime": {
     "end_time": "2018-08-05T08:21:51.583959Z",
     "start_time": "2018-08-05T08:21:03.273666Z"
    }
   },
   "outputs": [],
   "source": [
    "cplfw, cplfw_issame = get_val_pair(conf.emore_folder, 'cplfw')\n",
    "accuracy, best_threshold, roc_curve_tensor = learner.evaluate(conf, cplfw, cplfw_issame, nrof_folds=10, tta=True)\n",
    "print('cplfw - accuray:{}, threshold:{}'.format(accuracy, best_threshold))\n",
    "trans.ToPILImage()(roc_curve_tensor)"
   ]
  },
  {
   "cell_type": "code",
   "execution_count": null,
   "metadata": {
    "ExecuteTime": {
     "end_time": "2018-08-05T08:22:39.844455Z",
     "start_time": "2018-08-05T08:21:51.584778Z"
    },
    "scrolled": false
   },
   "outputs": [],
   "source": [
    "lfw, lfw_issame = get_val_pair(conf.emore_folder, 'lfw')\n",
    "accuracy, best_threshold, roc_curve_tensor = learner.evaluate(conf, lfw, lfw_issame, nrof_folds=10, tta=True)\n",
    "print('lfw - accuray:{}, threshold:{}'.format(accuracy, best_threshold))\n",
    "trans.ToPILImage()(roc_curve_tensor)"
   ]
  },
  {
   "cell_type": "code",
   "execution_count": null,
   "metadata": {
    "ExecuteTime": {
     "end_time": "2018-08-06T12:16:20.800212Z",
     "start_time": "2018-08-06T12:16:20.779466Z"
    }
   },
   "outputs": [],
   "source": [
    "conf.use_mobilfacenet = True"
   ]
  },
  {
   "cell_type": "code",
   "execution_count": null,
   "metadata": {
    "ExecuteTime": {
     "end_time": "2018-08-06T12:16:23.221644Z",
     "start_time": "2018-08-06T12:16:21.054952Z"
    }
   },
   "outputs": [],
   "source": [
    "learner = face_learner(conf, inference=True)"
   ]
  },
  {
   "cell_type": "code",
   "execution_count": null,
   "metadata": {
    "ExecuteTime": {
     "end_time": "2018-08-06T12:16:28.597709Z",
     "start_time": "2018-08-06T12:16:28.517182Z"
    }
   },
   "outputs": [],
   "source": [
    "learner.load_state(conf, 'mobilefacenet.pth', True, True)"
   ]
  },
  {
   "cell_type": "code",
   "execution_count": null,
   "metadata": {
    "ExecuteTime": {
     "end_time": "2018-08-06T12:08:41.321635Z",
     "start_time": "2018-08-06T12:08:25.989406Z"
    }
   },
   "outputs": [],
   "source": [
    "vgg2_fp, vgg2_fp_issame = get_val_pair(conf.emore_folder, 'vgg2_fp')\n",
    "accuracy, best_threshold, roc_curve_tensor = learner.evaluate(conf, vgg2_fp, vgg2_fp_issame, nrof_folds=10, tta=True)\n",
    "print('vgg2_fp - accuray:{}, threshold:{}'.format(accuracy, best_threshold))\n",
    "trans.ToPILImage()(roc_curve_tensor)"
   ]
  },
  {
   "cell_type": "code",
   "execution_count": null,
   "metadata": {
    "ExecuteTime": {
     "end_time": "2018-08-06T12:08:58.154562Z",
     "start_time": "2018-08-06T12:08:41.322814Z"
    }
   },
   "outputs": [],
   "source": [
    "agedb_30, agedb_30_issame = get_val_pair(conf.emore_folder, 'agedb_30')\n",
    "accuracy, best_threshold, roc_curve_tensor = learner.evaluate(conf, agedb_30, agedb_30_issame, nrof_folds=10, tta=True)\n",
    "print('agedb_30 - accuray:{}, threshold:{}'.format(accuracy, best_threshold))\n",
    "trans.ToPILImage()(roc_curve_tensor)"
   ]
  },
  {
   "cell_type": "code",
   "execution_count": null,
   "metadata": {
    "ExecuteTime": {
     "end_time": "2018-08-06T12:09:15.709817Z",
     "start_time": "2018-08-06T12:08:58.155453Z"
    }
   },
   "outputs": [],
   "source": [
    "calfw, calfw_issame = get_val_pair(conf.emore_folder, 'calfw')\n",
    "accuracy, best_threshold, roc_curve_tensor = learner.evaluate(conf, calfw, calfw_issame, nrof_folds=10, tta=True)\n",
    "print('calfw - accuray:{}, threshold:{}'.format(accuracy, best_threshold))\n",
    "trans.ToPILImage()(roc_curve_tensor)"
   ]
  },
  {
   "cell_type": "code",
   "execution_count": null,
   "metadata": {
    "ExecuteTime": {
     "end_time": "2018-08-06T12:09:35.552967Z",
     "start_time": "2018-08-06T12:09:15.711000Z"
    }
   },
   "outputs": [],
   "source": [
    "cfp_ff, cfp_ff_issame = get_val_pair(conf.emore_folder, 'cfp_ff')\n",
    "accuracy, best_threshold, roc_curve_tensor = learner.evaluate(conf, cfp_ff, cfp_ff_issame, nrof_folds=10, tta=True)\n",
    "print('cfp_ff - accuray:{}, threshold:{}'.format(accuracy, best_threshold))\n",
    "trans.ToPILImage()(roc_curve_tensor)"
   ]
  },
  {
   "cell_type": "code",
   "execution_count": null,
   "metadata": {
    "ExecuteTime": {
     "end_time": "2018-08-06T12:09:54.973120Z",
     "start_time": "2018-08-06T12:09:35.553840Z"
    }
   },
   "outputs": [],
   "source": [
    "cfp_fp, cfp_fp_issame = get_val_pair(conf.emore_folder, 'cfp_fp')\n",
    "accuracy, best_threshold, roc_curve_tensor = learner.evaluate(conf, cfp_fp, cfp_fp_issame, nrof_folds=10, tta=True)\n",
    "print('cfp_fp - accuray:{}, threshold:{}'.format(accuracy, best_threshold))\n",
    "trans.ToPILImage()(roc_curve_tensor)"
   ]
  },
  {
   "cell_type": "code",
   "execution_count": null,
   "metadata": {
    "ExecuteTime": {
     "end_time": "2018-08-06T12:10:13.593599Z",
     "start_time": "2018-08-06T12:09:54.973974Z"
    }
   },
   "outputs": [],
   "source": [
    "cplfw, cplfw_issame = get_val_pair(conf.emore_folder, 'cplfw')\n",
    "accuracy, best_threshold, roc_curve_tensor = learner.evaluate(conf, cplfw, cplfw_issame, nrof_folds=10, tta=True)\n",
    "print('cplfw - accuray:{}, threshold:{}'.format(accuracy, best_threshold))\n",
    "trans.ToPILImage()(roc_curve_tensor)"
   ]
  },
  {
   "cell_type": "code",
   "execution_count": null,
   "metadata": {
    "ExecuteTime": {
     "end_time": "2018-08-06T12:10:30.937786Z",
     "start_time": "2018-08-06T12:10:13.594457Z"
    },
    "scrolled": false
   },
   "outputs": [],
   "source": [
    "lfw, lfw_issame = get_val_pair(conf.emore_folder, 'lfw')\n",
    "accuracy, best_threshold, roc_curve_tensor = learner.evaluate(conf, lfw, lfw_issame, nrof_folds=10, tta=True)\n",
    "print('lfw - accuray:{}, threshold:{}'.format(accuracy, best_threshold))\n",
    "trans.ToPILImage()(roc_curve_tensor)"
   ]
  }
 ],
 "metadata": {
  "hide_input": false,
  "kernelspec": {
   "display_name": "Python [conda env:seesawEnv] *",
   "language": "python",
   "name": "conda-env-seesawEnv-py"
  },
  "language_info": {
   "codemirror_mode": {
    "name": "ipython",
    "version": 3
   },
   "file_extension": ".py",
   "mimetype": "text/x-python",
   "name": "python",
   "nbconvert_exporter": "python",
   "pygments_lexer": "ipython3",
   "version": "3.6.12"
  }
 },
 "nbformat": 4,
 "nbformat_minor": 2
}
